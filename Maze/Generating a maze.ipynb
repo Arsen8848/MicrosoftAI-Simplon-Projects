{
 "cells": [
  {
   "cell_type": "markdown",
   "metadata": {},
   "source": [
    "Pour ce projet nous utiliserons le tutoriel sur le DFS de l'université de Lyon.  \n",
    "http://math.univ-lyon1.fr/irem/Formation_ISN/formation_parcours_graphes/profondeur/3_python2.html"
   ]
  },
  {
   "cell_type": "code",
   "execution_count": 1,
   "metadata": {},
   "outputs": [],
   "source": [
    "import random\n",
    "import matplotlib.pyplot as plt\n",
    "\n",
    "class Maillon:\n",
    "    # permet de faire le lien entre une valeur et une valeur suivante\n",
    "    def __init__(self,valeur,suivant=None):\n",
    "        self.valeur = valeur\n",
    "        self.suivant = suivant\n",
    "        \n",
    "class Pile:\n",
    "    # permet de remplir ou de désemplir la pile\n",
    "    def __init__(self):\n",
    "        self.taille = 0\n",
    "        self.sommet = None\n",
    "        \n",
    "    def empiler(self,valeur):\n",
    "        self.sommet = Maillon(valeur, self.sommet)\n",
    "        self.taille += 1\n",
    "        \n",
    "    def depiler(self):\n",
    "        if self.taille > 0:\n",
    "            valeur = self.sommet.valeur\n",
    "            self.sommet=self.sommet.suivant\n",
    "            self.taille-=1\n",
    "            return valeur\n",
    "        \n",
    "    def estVide(self):\n",
    "        return self.taille==0\n",
    "        \n",
    "    def lireSommet(self):  \n",
    "        return self.sommet.valeur\n",
    "    "
   ]
  },
  {
   "cell_type": "code",
   "execution_count": 2,
   "metadata": {},
   "outputs": [],
   "source": [
    "# Dimensions de la grille:\n",
    "LARGEUR = 10\n",
    "HAUTEUR = 12\n",
    "\n",
    "def voisinage(couple):\n",
    "    \"\"\"\n",
    "    Renvoie la liste des cellules voisines\n",
    "    de la cellule (ligne, colonne) = couple dans la grille\n",
    "    \"\"\"\n",
    "    \n",
    "    listeVoisins =[]\n",
    "    i,j = couple[0], couple[1]\n",
    "    for d in (-1,1):\n",
    "        if -1 < i+d < HAUTEUR: listeVoisins.append((i+d,j))\n",
    "        if -1 < j+d < LARGEUR: listeVoisins.append((i,j+d))\n",
    "    return listeVoisins\n",
    "\n",
    "# Effectue le parcours en profondeur\n",
    "def dfs(s):\n",
    "    P={s:None}\n",
    "    Q=Pile()\n",
    "    Q.empiler(s)\n",
    "    while not(Q.estVide()):\n",
    "        u = Q.lireSommet()\n",
    "        R=[y for y in voisinage(u) if y not in P]\n",
    "        if R :\n",
    "            v = random.choice(R)\n",
    "            P[v]=u\n",
    "            Q.empiler(v)\n",
    "        else:\n",
    "            Q.depiler()\n",
    "    return P\n",
    "    "
   ]
  },
  {
   "cell_type": "code",
   "execution_count": 3,
   "metadata": {},
   "outputs": [],
   "source": [
    "# Trouver un chemin dans le labyrinthe\n",
    "def find_path(graph, start, end, path=[]): \n",
    "    path = path+[start] \n",
    "    if start == end: \n",
    "        return path \n",
    "    for node in graph[start]: \n",
    "        if node not in path: \n",
    "            newpath = find_path(graph, node, end, path) \n",
    "            if newpath: \n",
    "                return newpath"
   ]
  },
  {
   "cell_type": "code",
   "execution_count": 4,
   "metadata": {},
   "outputs": [],
   "source": [
    "# Fonction qui convertit le parcours du labyrinthe en graphe (dictionnaire de dictionnaires)\n",
    "def dic_dfs(dic):\n",
    "    new_dic = {}\n",
    "    for sommet in dic.keys():\n",
    "        new_dic[sommet] = [dic[sommet]]\n",
    "        if dic[sommet] in new_dic.keys():\n",
    "            new_dic[dic.get(sommet)].append(sommet)\n",
    "    for sommet in dic.keys():\n",
    "        new_dic[sommet] = {node : 1 for node in new_dic[sommet] if node != None }\n",
    "    return new_dic"
   ]
  },
  {
   "cell_type": "code",
   "execution_count": 5,
   "metadata": {},
   "outputs": [],
   "source": [
    "labyrinthe = [[0 for j in range(2*LARGEUR+1)] for i in range(2*HAUTEUR+1)]\n",
    "parcours = dfs((0,0))\n",
    "graphe = dic_dfs(parcours)\n",
    "chemin = find_path(graphe, (0,0), (HAUTEUR-1,LARGEUR-1))\n",
    "\n",
    "def dedale_resolu(labyrinthe,parcours,chemin):\n",
    "    \"\"\"\n",
    "    Fonction dessinant le résultat\n",
    "    \"\"\"\n",
    "    \n",
    "    for i,j in parcours:\n",
    "        labyrinthe[2*i+1][2*j+1]=1\n",
    "        if (i,j) != (0,0):\n",
    "            k,l = parcours[(i,j)]\n",
    "            labyrinthe[2*k+1][2*l+1] = 1\n",
    "            labyrinthe[i+k+1][j+l+1] = 1\n",
    "    \n",
    "    # coloriage du chemin pour trouver la sortie du labyrinthe\n",
    "    for i,j in chemin:\n",
    "        labyrinthe[2*i+1][2*j+1]=5\n",
    "        if (i,j) != (0,0):\n",
    "            k,l = parcours[(i,j)]\n",
    "            labyrinthe[2*k+1][2*l+1] = 5\n",
    "            labyrinthe[i+k+1][j+l+1] = 5\n",
    "            \n",
    "    labyrinthe[1][0] = 1\n",
    "    labyrinthe[2*HAUTEUR-1][2*LARGEUR] = 5\n",
    "        \n",
    "    plt.imshow(labyrinthe)\n",
    "    plt.xticks([])\n",
    "    plt.yticks([])\n",
    "    plt.show()\n",
    "    print('Le plus court chemin est', chemin)"
   ]
  },
  {
   "cell_type": "code",
   "execution_count": 6,
   "metadata": {},
   "outputs": [
    {
     "data": {
      "image/png": "[encoded data removed]",
      "text/plain": [
       "<Figure size 432x288 with 1 Axes>"
      ]
     },
     "metadata": {},
     "output_type": "display_data"
    },
    {
     "name": "stdout",
     "output_type": "stream",
     "text": [
      "Le plus court chemin est [(0, 0), (0, 1), (0, 2), (0, 3), (1, 3), (2, 3), (2, 2), (1, 2), (1, 1), (2, 1), (2, 0), (3, 0), (4, 0), (4, 1), (3, 1), (3, 2), (4, 2), (5, 2), (5, 3), (6, 3), (7, 3), (7, 2), (6, 2), (6, 1), (6, 0), (7, 0), (8, 0), (8, 1), (8, 2), (8, 3), (8, 4), (9, 4), (9, 3), (10, 3), (10, 4), (10, 5), (11, 5), (11, 6), (11, 7), (11, 8), (10, 8), (9, 8), (9, 9), (10, 9), (11, 9)]\n"
     ]
    }
   ],
   "source": [
    "# afficher le labyrinthe et sa solution\n",
    "dedale_resolu(labyrinthe,parcours,chemin)"
   ]
  },
  {
   "cell_type": "code",
   "execution_count": null,
   "metadata": {},
   "outputs": [],
   "source": []
  },
  {
   "cell_type": "code",
   "execution_count": null,
   "metadata": {},
   "outputs": [],
   "source": []
  }
 ],
 "metadata": {
  "kernelspec": {
   "display_name": "Python 3",
   "language": "python",
   "name": "python3"
  },
  "language_info": {
   "codemirror_mode": {
    "name": "ipython",
    "version": 3
   },
   "file_extension": ".py",
   "mimetype": "text/x-python",
   "name": "python",
   "nbconvert_exporter": "python",
   "pygments_lexer": "ipython3",
   "version": "3.8.5"
  }
 },
 "nbformat": 4,
 "nbformat_minor": 4
}
