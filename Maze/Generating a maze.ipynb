{
 "cells": [
  {
   "cell_type": "markdown",
   "metadata": {},
   "source": [
    "https://scipython.com/blog/making-a-maze/"
   ]
  },
  {
   "cell_type": "code",
   "execution_count": 44,
   "metadata": {},
   "outputs": [],
   "source": [
    "# df_maze.py\n",
    "import random\n",
    "\n",
    "\n",
    "# Create a maze using the depth-first algorithm described at\n",
    "# https://scipython.com/blog/making-a-maze/\n",
    "\n",
    "\n",
    "class Cell:\n",
    "    \"\"\"A cell in the maze.\n",
    "\n",
    "    A maze \"Cell\" is a point in the grid which may be surrounded by walls to\n",
    "    the north, east, south or west.\n",
    "\n",
    "    \"\"\"\n",
    "\n",
    "    # A wall separates a pair of cells in the N-S or W-E directions.\n",
    "    wall_pairs = {'N': 'S', 'S': 'N', 'E': 'W', 'W': 'E'}\n",
    "\n",
    "    def __init__(self, x, y):\n",
    "        \"\"\"Initialize the cell at (x,y). At first it is surrounded by walls.\"\"\"\n",
    "\n",
    "        self.x, self.y = x, y\n",
    "        self.walls = {'N': True, 'S': True, 'E': True, 'W': True}\n",
    "\n",
    "    def has_all_walls(self):\n",
    "        \"\"\"Does this cell still have all its walls?\"\"\"\n",
    "\n",
    "        return all(self.walls.values())\n",
    "\n",
    "    def knock_down_wall(self, other, wall):\n",
    "        \"\"\"Knock down the wall between cells self and other.\"\"\"\n",
    "\n",
    "        self.walls[wall] = False\n",
    "        other.walls[Cell.wall_pairs[wall]] = False\n",
    "\n",
    "\n",
    "class Maze:\n",
    "    \"\"\"A Maze, represented as a grid of cells.\"\"\"\n",
    "\n",
    "    def __init__(self, nx, ny, ix=0, iy=0):\n",
    "        \"\"\"Initialize the maze grid.\n",
    "        The maze consists of nx x ny cells and will be constructed starting\n",
    "        at the cell indexed at (ix, iy).\n",
    "\n",
    "        \"\"\"\n",
    "\n",
    "        self.nx, self.ny = nx, ny\n",
    "        self.ix, self.iy = ix, iy\n",
    "        self.maze_map = [[Cell(x, y) for y in range(ny)] for x in range(nx)]\n",
    "\n",
    "    def cell_at(self, x, y):\n",
    "        \"\"\"Return the Cell object at (x,y).\"\"\"\n",
    "\n",
    "        return self.maze_map[x][y]\n",
    "\n",
    "    def __str__(self):\n",
    "        \"\"\"Return a (crude) string representation of the maze.\"\"\"\n",
    "\n",
    "        maze_rows = ['-' * self.nx * 2]\n",
    "        for y in range(self.ny):\n",
    "            maze_row = ['|']\n",
    "            for x in range(self.nx):\n",
    "                if self.maze_map[x][y].walls['E']:\n",
    "                    maze_row.append(' |')\n",
    "                else:\n",
    "                    maze_row.append('  ')\n",
    "            maze_rows.append(''.join(maze_row))\n",
    "            maze_row = ['|']\n",
    "            for x in range(self.nx):\n",
    "                if self.maze_map[x][y].walls['S']:\n",
    "                    maze_row.append('-+')\n",
    "                else:\n",
    "                    maze_row.append(' +')\n",
    "            maze_rows.append(''.join(maze_row))\n",
    "        return '\\n'.join(maze_rows)\n",
    "\n",
    "\n",
    "\n",
    "    def find_valid_neighbours(self, cell):\n",
    "        \"\"\"Return a list of unvisited neighbours to cell.\"\"\"\n",
    "\n",
    "        delta = [('W', (-1, 0)),\n",
    "                 ('E', (1, 0)),\n",
    "                 ('S', (0, 1)),\n",
    "                 ('N', (0, -1))]\n",
    "        neighbours = []\n",
    "        for direction, (dx, dy) in delta:\n",
    "            x2, y2 = cell.x + dx, cell.y + dy\n",
    "            if (0 <= x2 < self.nx) and (0 <= y2 < self.ny):\n",
    "                neighbour = self.cell_at(x2, y2)\n",
    "                if neighbour.has_all_walls():\n",
    "                    neighbours.append((direction, neighbour))\n",
    "        return neighbours\n",
    "\n",
    "    def make_maze(self):\n",
    "        # Total number of cells.\n",
    "        n = self.nx * self.ny\n",
    "        cell_stack = []\n",
    "        current_cell = self.cell_at(self.ix, self.iy)\n",
    "        # Total number of visited cells during maze construction.\n",
    "        nv = 1\n",
    "\n",
    "        while nv < n:\n",
    "            neighbours = self.find_valid_neighbours(current_cell)\n",
    "\n",
    "            if not neighbours:\n",
    "                # We've reached a dead end: backtrack.\n",
    "                current_cell = cell_stack.pop()\n",
    "                continue\n",
    "\n",
    "            # Choose a random neighbouring cell and move to it.\n",
    "            direction, next_cell = random.choice(neighbours)\n",
    "            current_cell.knock_down_wall(next_cell, direction)\n",
    "            cell_stack.append(current_cell)\n",
    "            current_cell = next_cell\n",
    "            nv += 1\n",
    "       \n",
    "            "
   ]
  },
  {
   "cell_type": "code",
   "execution_count": 45,
   "metadata": {},
   "outputs": [
    {
     "name": "stdout",
     "output_type": "stream",
     "text": [
      "--------------------\n",
      "|     |       |     |\n",
      "|-+-+ + +-+-+ + +-+ +\n",
      "|   |   |     |   | |\n",
      "| +-+-+-+ +-+-+ + + +\n",
      "|     |   | |   | | |\n",
      "|-+-+ + +-+ + +-+ + +\n",
      "|     |   |     | | |\n",
      "| +-+ +-+ +-+-+-+ +-+\n",
      "|   |   |       |   |\n",
      "| + +-+ +-+-+-+ +-+ +\n",
      "| |   |     |   |   |\n",
      "|-+-+ +-+ +-+ +-+ +-+\n",
      "|     |   |   |     |\n",
      "| +-+-+-+-+ +-+ +-+ +\n",
      "|       |   |   |   |\n",
      "|-+-+-+ + +-+-+ + +-+\n",
      "|       |     | |   |\n",
      "| +-+-+-+-+-+ +-+-+ +\n",
      "|                   |\n",
      "|-+-+-+-+-+-+-+-+-+-+\n"
     ]
    }
   ],
   "source": [
    "# Maze dimensions (ncols,nrows)\n",
    "nx, ny = 10, 10\n",
    "# Maze entry position\n",
    "ix, iy = 0, 0\n",
    "\n",
    "maze = Maze(nx,ny,ix,iy)\n",
    "maze.make_maze()\n",
    "\n",
    "print(maze)"
   ]
  },
  {
   "cell_type": "code",
   "execution_count": null,
   "metadata": {},
   "outputs": [],
   "source": [
    "# Dijkstra Algorithm\n",
    "def Dijkstra(Graph, source):\n",
    "    '''\n",
    "        +   +---+---+\n",
    "        | 0   1   2 |\n",
    "        +---+   +   +\n",
    "        | 3   4 | 5  \n",
    "        +---+---+---+\n",
    " \n",
    "        >>> graph = (        # or ones on the diagonal\n",
    "        ...     (0,1,0,0,0,0,),\n",
    "        ...     (1,0,1,0,1,0,),\n",
    "        ...     (0,1,0,0,0,1,),\n",
    "        ...     (0,0,0,0,1,0,),\n",
    "        ...     (0,1,0,1,0,0,),\n",
    "        ...     (0,0,1,0,0,0,),\n",
    "        ... )\n",
    "        ...\n",
    "        >>> Dijkstra(graph, 0)\n",
    "        ([0, 1, 2, 3, 2, 3], [1e+140, 0, 1, 4, 1, 2])\n",
    "        >>> display_solution([1e+140, 0, 1, 4, 1, 2])\n",
    "        5<2<1<0\n",
    "    '''\n",
    "    # Graph[u][v] is the weight from u to v (however 0 means infinity)\n",
    "    infinity = float('infinity')\n",
    "    n = len(graph)\n",
    "    dist = [infinity]*n   # Unknown distance function from source to v\n",
    "    previous = [infinity]*n # Previous node in optimal path from source\n",
    "    dist[source] = 0        # Distance from source to source\n",
    "    Q = list(range(n)) # All nodes in the graph are unoptimized - thus are in Q\n",
    "    while Q:           # The main loop\n",
    "        u = min(Q, key=lambda n:dist[n])                 # vertex in Q with smallest dist[]\n",
    "        Q.remove(u)\n",
    "        if dist[u] == infinity:\n",
    "            break # all remaining vertices are inaccessible from source\n",
    "        for v in range(n):               # each neighbor v of u\n",
    "            if Graph[u][v] and (v in Q): # where v has not yet been visited\n",
    "                alt = dist[u] + Graph[u][v]\n",
    "                if alt < dist[v]:       # Relax (u,v,a)\n",
    "                    dist[v] = alt\n",
    "                    previous[v] = u\n",
    "    return dist,previous\n",
    " \n",
    "def display_solution(predecessor):\n",
    "    cell = len(predecessor)-1\n",
    "    while cell:\n",
    "        print(cell,end='<')\n",
    "        cell = predecessor[cell]\n",
    "    print(0)"
   ]
  },
  {
   "cell_type": "code",
   "execution_count": null,
   "metadata": {},
   "outputs": [],
   "source": []
  },
  {
   "cell_type": "code",
   "execution_count": null,
   "metadata": {},
   "outputs": [],
   "source": []
  },
  {
   "cell_type": "code",
   "execution_count": null,
   "metadata": {},
   "outputs": [],
   "source": []
  },
  {
   "cell_type": "code",
   "execution_count": null,
   "metadata": {},
   "outputs": [],
   "source": []
  },
  {
   "cell_type": "code",
   "execution_count": null,
   "metadata": {},
   "outputs": [],
   "source": []
  },
  {
   "cell_type": "code",
   "execution_count": null,
   "metadata": {},
   "outputs": [],
   "source": []
  },
  {
   "cell_type": "code",
   "execution_count": null,
   "metadata": {},
   "outputs": [],
   "source": []
  },
  {
   "cell_type": "code",
   "execution_count": null,
   "metadata": {},
   "outputs": [],
   "source": []
  },
  {
   "cell_type": "code",
   "execution_count": null,
   "metadata": {},
   "outputs": [],
   "source": []
  },
  {
   "cell_type": "code",
   "execution_count": null,
   "metadata": {},
   "outputs": [],
   "source": []
  },
  {
   "cell_type": "code",
   "execution_count": null,
   "metadata": {},
   "outputs": [],
   "source": []
  },
  {
   "cell_type": "code",
   "execution_count": null,
   "metadata": {},
   "outputs": [],
   "source": []
  },
  {
   "cell_type": "code",
   "execution_count": null,
   "metadata": {},
   "outputs": [],
   "source": []
  },
  {
   "cell_type": "code",
   "execution_count": null,
   "metadata": {},
   "outputs": [],
   "source": []
  },
  {
   "cell_type": "code",
   "execution_count": null,
   "metadata": {},
   "outputs": [],
   "source": []
  },
  {
   "cell_type": "code",
   "execution_count": null,
   "metadata": {},
   "outputs": [],
   "source": []
  },
  {
   "cell_type": "code",
   "execution_count": null,
   "metadata": {},
   "outputs": [],
   "source": []
  },
  {
   "cell_type": "code",
   "execution_count": null,
   "metadata": {},
   "outputs": [],
   "source": []
  },
  {
   "cell_type": "code",
   "execution_count": null,
   "metadata": {},
   "outputs": [],
   "source": []
  },
  {
   "cell_type": "code",
   "execution_count": null,
   "metadata": {},
   "outputs": [],
   "source": []
  },
  {
   "cell_type": "code",
   "execution_count": null,
   "metadata": {},
   "outputs": [],
   "source": []
  },
  {
   "cell_type": "code",
   "execution_count": null,
   "metadata": {},
   "outputs": [],
   "source": []
  },
  {
   "cell_type": "code",
   "execution_count": null,
   "metadata": {},
   "outputs": [],
   "source": []
  },
  {
   "cell_type": "code",
   "execution_count": null,
   "metadata": {},
   "outputs": [],
   "source": []
  },
  {
   "cell_type": "code",
   "execution_count": null,
   "metadata": {},
   "outputs": [],
   "source": []
  },
  {
   "cell_type": "code",
   "execution_count": null,
   "metadata": {},
   "outputs": [],
   "source": []
  },
  {
   "cell_type": "code",
   "execution_count": null,
   "metadata": {},
   "outputs": [],
   "source": []
  },
  {
   "cell_type": "code",
   "execution_count": null,
   "metadata": {},
   "outputs": [],
   "source": []
  }
 ],
 "metadata": {
  "kernelspec": {
   "display_name": "Python 3",
   "language": "python",
   "name": "python3"
  },
  "language_info": {
   "codemirror_mode": {
    "name": "ipython",
    "version": 3
   },
   "file_extension": ".py",
   "mimetype": "text/x-python",
   "name": "python",
   "nbconvert_exporter": "python",
   "pygments_lexer": "ipython3",
   "version": "3.8.5"
  }
 },
 "nbformat": 4,
 "nbformat_minor": 4
}
