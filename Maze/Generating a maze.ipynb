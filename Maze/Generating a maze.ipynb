{
 "cells": [
  {
   "cell_type": "code",
   "execution_count": 31,
   "metadata": {},
   "outputs": [
    {
     "data": {
      "image/png": "[encoded data removed]",
      "text/plain": [
       "<Figure size 432x288 with 1 Axes>"
      ]
     },
     "metadata": {},
     "output_type": "display_data"
    }
   ],
   "source": [
    "import random\n",
    "import matplotlib.pyplot as plt\n",
    "\n",
    "class Maillon:\n",
    "    def __init__(self,valeur,suivant=None):\n",
    "        self.valeur = valeur\n",
    "        self.suivant = suivant\n",
    "        \n",
    "class Pile:\n",
    "    def __init__(self):\n",
    "        self.taille = 0\n",
    "        self.sommet = None\n",
    "        \n",
    "    def empiler(self,valeur):\n",
    "        self.sommet = Maillon(valeur, self.sommet)\n",
    "        self.taille += 1\n",
    "        \n",
    "    def depiler(self):\n",
    "        if self.taille > 0:\n",
    "            valeur = self.sommet.valeur\n",
    "            self.sommet=self.sommet.suivant\n",
    "            self.taille-=1\n",
    "            return valeur\n",
    "        \n",
    "    def estVide(self):\n",
    "        return self.taille==0\n",
    "        \n",
    "    def lireSommet(self):  \n",
    "        return self.sommet.valeur\n",
    "    \n",
    "# Dimensions de la grille:\n",
    "LARGEUR = 3\n",
    "HAUTEUR = 3\n",
    "\n",
    "def voisinage(couple):\n",
    "    \"\"\"\n",
    "    Renvoie la liste des cellules voisines\n",
    "    de la cellule (ligne, colonne) = couple dans la grille\n",
    "    \"\"\"\n",
    "    \n",
    "    listeVoisins =[]\n",
    "    i,j = couple[0], couple[1]\n",
    "    for d in (-1,1):\n",
    "        if -1 < i+d < HAUTEUR: listeVoisins.append((i+d,j))\n",
    "        if -1 < j+d < LARGEUR: listeVoisins.append((i,j+d))\n",
    "    return listeVoisins\n",
    "\n",
    "def dfs(s):\n",
    "    P={s:None}\n",
    "    Q=Pile()\n",
    "    Q.empiler(s)\n",
    "    while not(Q.estVide()):\n",
    "        u = Q.lireSommet()\n",
    "        R=[y for y in voisinage(u) if y not in P]\n",
    "        if R :\n",
    "            v = random.choice(R)\n",
    "            P[v]=u\n",
    "            Q.empiler(v)\n",
    "        else:\n",
    "            Q.depiler()\n",
    "    return P\n",
    "\n",
    "def dedale():\n",
    "    \"\"\"\n",
    "    Fonction dessinant le résultat\n",
    "    \"\"\"\n",
    "    labyrinthe = [[0 for j in range(2*LARGEUR+1)] for i in range(2*HAUTEUR+1)]\n",
    "    parcours= dfs((0,0))\n",
    "    \n",
    "    for i,j in parcours:\n",
    "        labyrinthe[2*i+1][2*j+1]=1\n",
    "        if (i,j) != (0,0):\n",
    "            k,l = parcours[(i,j)]\n",
    "            labyrinthe[2*k+1][2*l+1] = 1\n",
    "            labyrinthe[i+k+1][j+l+1] = 1\n",
    "            \n",
    "    labyrinthe[1][0] = 1\n",
    "    labyrinthe[2*HAUTEUR-1][2*LARGEUR] = 1\n",
    "        \n",
    "    plt.imshow(labyrinthe)\n",
    "    plt.xticks([])\n",
    "    plt.yticks([])\n",
    "    plt.show()\n",
    "        \n",
    "\n",
    "\n",
    "dedale()\n",
    "    "
   ]
  },
  {
   "cell_type": "code",
   "execution_count": 33,
   "metadata": {},
   "outputs": [
    {
     "name": "stdout",
     "output_type": "stream",
     "text": [
      "[(1, 0), (0, 1)]\n",
      "[(0, 0), (1, 1), (0, 2)]\n",
      "[(0, 1), (1, 2)]\n",
      "[(0, 0), (2, 0), (1, 1)]\n",
      "[(0, 1), (1, 0), (2, 1), (1, 2)]\n",
      "[(0, 2), (1, 1), (2, 2)]\n",
      "[(1, 0), (2, 1)]\n",
      "[(1, 1), (2, 0), (2, 2)]\n",
      "[(1, 2), (2, 1)]\n"
     ]
    }
   ],
   "source": [
    "for x in range(0,3):\n",
    "    for y in range(0,3):\n",
    "        print(voisinage((x,y)))"
   ]
  },
  {
   "cell_type": "code",
   "execution_count": 35,
   "metadata": {},
   "outputs": [
    {
     "data": {
      "text/plain": [
       "{(3, 3): None,\n",
       " (2, 3): (3, 3),\n",
       " (2, 2): (2, 3),\n",
       " (1, 2): (2, 2),\n",
       " (1, 1): (1, 2),\n",
       " (2, 1): (1, 1),\n",
       " (2, 0): (2, 1),\n",
       " (1, 0): (2, 0),\n",
       " (0, 0): (1, 0),\n",
       " (0, 1): (0, 0),\n",
       " (0, 2): (0, 1),\n",
       " (1, 3): (2, 3),\n",
       " (0, 3): (1, 3),\n",
       " (3, 2): (3, 3),\n",
       " (3, 1): (3, 2),\n",
       " (3, 0): (3, 1)}"
      ]
     },
     "execution_count": 35,
     "metadata": {},
     "output_type": "execute_result"
    }
   ],
   "source": [
    "dfs((3,3))"
   ]
  },
  {
   "cell_type": "code",
   "execution_count": 36,
   "metadata": {},
   "outputs": [],
   "source": [
    "def affiche_peres(pere,depart,extremite,trajet):\n",
    "    \"\"\"\n",
    "    À partir du dictionnaire des pères de chaque sommet on renvoie\n",
    "    la liste des sommets du plus court chemin trouvé. Calcul récursif.\n",
    "    On part de la fin et on remonte vers le départ du chemin.\n",
    "    \n",
    "    \"\"\"\n",
    "    if extremite == depart:\n",
    "        return [depart] + trajet\n",
    "    else:\n",
    "        return (affiche_peres(pere, depart, pere[extremite], [extremite] + trajet))\n",
    " \n",
    "def plus_court(graphe,etape,fin,visites,dist,pere,depart):\n",
    "    \"\"\"\n",
    "    Trouve récursivement la plus courte chaine entre debut et fin avec l'algo de Dijkstra\n",
    "    visites est une liste et dist et pere des dictionnaires \n",
    "    graphe  : le graphe étudié                                                               (dictionnaire)\n",
    "    étape   : le sommet en cours d'étude                                                     (sommet)\n",
    "    fin     : but du trajet                                                                  (sommet)\n",
    "    visites : liste des sommets déjà visités                                                 (liste de sommets)\n",
    "    dist    : dictionnaire meilleure distance actuelle entre départ et les sommets du graphe (dict sommet : int)\n",
    "    pere    : dictionnaire des pères actuels des sommets correspondant aux meilleurs chemins (dict sommet : sommet)\n",
    "    depart  : sommet global de départ                                                        (sommet)\n",
    "    Retourne le couple (longueur mini (int), trajet correspondant (liste sommets)) \n",
    "       \n",
    "    \"\"\"\n",
    "    # si on arrive à la fin, on affiche la distance et les peres\n",
    "    if etape == fin:\n",
    "       return dist[fin], affiche_peres(pere,depart,fin,[])\n",
    "    # si c'est la première visite, c'est que l'étape actuelle est le départ : on met dist[etape] à 0\n",
    "    if  len(visites) == 0 : dist[etape]=0\n",
    "    # on commence à tester les voisins non visités\n",
    "    for voisin in graphe[etape]:\n",
    "        if voisin not in visites:\n",
    "            # la distance est soit la distance calculée précédemment soit l'infini\n",
    "            dist_voisin = dist.get(voisin,float('inf'))\n",
    "            # on calcule la nouvelle distance calculée en passant par l'étape\n",
    "            candidat_dist = dist[etape] + graphe[etape][voisin]\n",
    "            # on effectue les changements si cela donne un chemin plus court\n",
    "            if candidat_dist < dist_voisin:\n",
    "                dist[voisin] = candidat_dist\n",
    "                pere[voisin] = etape\n",
    "    # on a regardé tous les voisins : le noeud entier est visité\n",
    "    visites.append(etape)\n",
    "    # on cherche le sommet *non visité* le plus proche du départ\n",
    "    non_visites = dict((s, dist.get(s,float('inf'))) for s in graphe if s not in visites)\n",
    "    noeud_plus_proche = min(non_visites, key = non_visites.get)\n",
    "    # on applique récursivement en prenant comme nouvelle étape le sommet le plus proche \n",
    "    return plus_court(graphe,noeud_plus_proche,fin,visites,dist,pere,depart)\n",
    "\n",
    "def dij_rec(graphe,debut,fin):\n",
    "    return plus_court(graphe,debut,fin,[],{},{},debut)"
   ]
  },
  {
   "cell_type": "code",
   "execution_count": 38,
   "metadata": {},
   "outputs": [
    {
     "ename": "TypeError",
     "evalue": "'NoneType' object is not iterable",
     "output_type": "error",
     "traceback": [
      "\u001b[0;31m---------------------------------------------------------------------------\u001b[0m",
      "\u001b[0;31mTypeError\u001b[0m                                 Traceback (most recent call last)",
      "\u001b[0;32m<ipython-input-38-aa15dd831363>\u001b[0m in \u001b[0;36m<module>\u001b[0;34m\u001b[0m\n\u001b[0;32m----> 1\u001b[0;31m \u001b[0mdij_rec\u001b[0m\u001b[0;34m(\u001b[0m\u001b[0mdfs\u001b[0m\u001b[0;34m(\u001b[0m\u001b[0;34m(\u001b[0m\u001b[0;36m3\u001b[0m\u001b[0;34m,\u001b[0m\u001b[0;36m3\u001b[0m\u001b[0;34m)\u001b[0m\u001b[0;34m)\u001b[0m\u001b[0;34m,\u001b[0m\u001b[0;34m(\u001b[0m\u001b[0;36m0\u001b[0m\u001b[0;34m,\u001b[0m\u001b[0;36m0\u001b[0m\u001b[0;34m)\u001b[0m\u001b[0;34m,\u001b[0m\u001b[0;34m(\u001b[0m\u001b[0;36m4\u001b[0m\u001b[0;34m,\u001b[0m\u001b[0;36m4\u001b[0m\u001b[0;34m)\u001b[0m\u001b[0;34m)\u001b[0m\u001b[0;34m\u001b[0m\u001b[0;34m\u001b[0m\u001b[0m\n\u001b[0m",
      "\u001b[0;32m<ipython-input-36-04234babd307>\u001b[0m in \u001b[0;36mdij_rec\u001b[0;34m(graphe, debut, fin)\u001b[0m\n\u001b[1;32m     50\u001b[0m \u001b[0;34m\u001b[0m\u001b[0m\n\u001b[1;32m     51\u001b[0m \u001b[0;32mdef\u001b[0m \u001b[0mdij_rec\u001b[0m\u001b[0;34m(\u001b[0m\u001b[0mgraphe\u001b[0m\u001b[0;34m,\u001b[0m\u001b[0mdebut\u001b[0m\u001b[0;34m,\u001b[0m\u001b[0mfin\u001b[0m\u001b[0;34m)\u001b[0m\u001b[0;34m:\u001b[0m\u001b[0;34m\u001b[0m\u001b[0;34m\u001b[0m\u001b[0m\n\u001b[0;32m---> 52\u001b[0;31m     \u001b[0;32mreturn\u001b[0m \u001b[0mplus_court\u001b[0m\u001b[0;34m(\u001b[0m\u001b[0mgraphe\u001b[0m\u001b[0;34m,\u001b[0m\u001b[0mdebut\u001b[0m\u001b[0;34m,\u001b[0m\u001b[0mfin\u001b[0m\u001b[0;34m,\u001b[0m\u001b[0;34m[\u001b[0m\u001b[0;34m]\u001b[0m\u001b[0;34m,\u001b[0m\u001b[0;34m{\u001b[0m\u001b[0;34m}\u001b[0m\u001b[0;34m,\u001b[0m\u001b[0;34m{\u001b[0m\u001b[0;34m}\u001b[0m\u001b[0;34m,\u001b[0m\u001b[0mdebut\u001b[0m\u001b[0;34m)\u001b[0m\u001b[0;34m\u001b[0m\u001b[0;34m\u001b[0m\u001b[0m\n\u001b[0m",
      "\u001b[0;32m<ipython-input-36-04234babd307>\u001b[0m in \u001b[0;36mplus_court\u001b[0;34m(graphe, etape, fin, visites, dist, pere, depart)\u001b[0m\n\u001b[1;32m     47\u001b[0m     \u001b[0mnoeud_plus_proche\u001b[0m \u001b[0;34m=\u001b[0m \u001b[0mmin\u001b[0m\u001b[0;34m(\u001b[0m\u001b[0mnon_visites\u001b[0m\u001b[0;34m,\u001b[0m \u001b[0mkey\u001b[0m \u001b[0;34m=\u001b[0m \u001b[0mnon_visites\u001b[0m\u001b[0;34m.\u001b[0m\u001b[0mget\u001b[0m\u001b[0;34m)\u001b[0m\u001b[0;34m\u001b[0m\u001b[0;34m\u001b[0m\u001b[0m\n\u001b[1;32m     48\u001b[0m     \u001b[0;31m# on applique récursivement en prenant comme nouvelle étape le sommet le plus proche\u001b[0m\u001b[0;34m\u001b[0m\u001b[0;34m\u001b[0m\u001b[0;34m\u001b[0m\u001b[0m\n\u001b[0;32m---> 49\u001b[0;31m     \u001b[0;32mreturn\u001b[0m \u001b[0mplus_court\u001b[0m\u001b[0;34m(\u001b[0m\u001b[0mgraphe\u001b[0m\u001b[0;34m,\u001b[0m\u001b[0mnoeud_plus_proche\u001b[0m\u001b[0;34m,\u001b[0m\u001b[0mfin\u001b[0m\u001b[0;34m,\u001b[0m\u001b[0mvisites\u001b[0m\u001b[0;34m,\u001b[0m\u001b[0mdist\u001b[0m\u001b[0;34m,\u001b[0m\u001b[0mpere\u001b[0m\u001b[0;34m,\u001b[0m\u001b[0mdepart\u001b[0m\u001b[0;34m)\u001b[0m\u001b[0;34m\u001b[0m\u001b[0;34m\u001b[0m\u001b[0m\n\u001b[0m\u001b[1;32m     50\u001b[0m \u001b[0;34m\u001b[0m\u001b[0m\n\u001b[1;32m     51\u001b[0m \u001b[0;32mdef\u001b[0m \u001b[0mdij_rec\u001b[0m\u001b[0;34m(\u001b[0m\u001b[0mgraphe\u001b[0m\u001b[0;34m,\u001b[0m\u001b[0mdebut\u001b[0m\u001b[0;34m,\u001b[0m\u001b[0mfin\u001b[0m\u001b[0;34m)\u001b[0m\u001b[0;34m:\u001b[0m\u001b[0;34m\u001b[0m\u001b[0;34m\u001b[0m\u001b[0m\n",
      "\u001b[0;32m<ipython-input-36-04234babd307>\u001b[0m in \u001b[0;36mplus_court\u001b[0;34m(graphe, etape, fin, visites, dist, pere, depart)\u001b[0m\n\u001b[1;32m     31\u001b[0m     \u001b[0;32mif\u001b[0m  \u001b[0mlen\u001b[0m\u001b[0;34m(\u001b[0m\u001b[0mvisites\u001b[0m\u001b[0;34m)\u001b[0m \u001b[0;34m==\u001b[0m \u001b[0;36m0\u001b[0m \u001b[0;34m:\u001b[0m \u001b[0mdist\u001b[0m\u001b[0;34m[\u001b[0m\u001b[0metape\u001b[0m\u001b[0;34m]\u001b[0m\u001b[0;34m=\u001b[0m\u001b[0;36m0\u001b[0m\u001b[0;34m\u001b[0m\u001b[0;34m\u001b[0m\u001b[0m\n\u001b[1;32m     32\u001b[0m     \u001b[0;31m# on commence à tester les voisins non visités\u001b[0m\u001b[0;34m\u001b[0m\u001b[0;34m\u001b[0m\u001b[0;34m\u001b[0m\u001b[0m\n\u001b[0;32m---> 33\u001b[0;31m     \u001b[0;32mfor\u001b[0m \u001b[0mvoisin\u001b[0m \u001b[0;32min\u001b[0m \u001b[0mgraphe\u001b[0m\u001b[0;34m[\u001b[0m\u001b[0metape\u001b[0m\u001b[0;34m]\u001b[0m\u001b[0;34m:\u001b[0m\u001b[0;34m\u001b[0m\u001b[0;34m\u001b[0m\u001b[0m\n\u001b[0m\u001b[1;32m     34\u001b[0m         \u001b[0;32mif\u001b[0m \u001b[0mvoisin\u001b[0m \u001b[0;32mnot\u001b[0m \u001b[0;32min\u001b[0m \u001b[0mvisites\u001b[0m\u001b[0;34m:\u001b[0m\u001b[0;34m\u001b[0m\u001b[0;34m\u001b[0m\u001b[0m\n\u001b[1;32m     35\u001b[0m             \u001b[0;31m# la distance est soit la distance calculée précédemment soit l'infini\u001b[0m\u001b[0;34m\u001b[0m\u001b[0;34m\u001b[0m\u001b[0;34m\u001b[0m\u001b[0m\n",
      "\u001b[0;31mTypeError\u001b[0m: 'NoneType' object is not iterable"
     ]
    }
   ],
   "source": [
    "dij_rec(dfs((3,3)),(0,0),(4,4))"
   ]
  },
  {
   "cell_type": "code",
   "execution_count": null,
   "metadata": {},
   "outputs": [],
   "source": []
  }
 ],
 "metadata": {
  "kernelspec": {
   "display_name": "Python 3",
   "language": "python",
   "name": "python3"
  },
  "language_info": {
   "codemirror_mode": {
    "name": "ipython",
    "version": 3
   },
   "file_extension": ".py",
   "mimetype": "text/x-python",
   "name": "python",
   "nbconvert_exporter": "python",
   "pygments_lexer": "ipython3",
   "version": "3.8.5"
  }
 },
 "nbformat": 4,
 "nbformat_minor": 4
}
